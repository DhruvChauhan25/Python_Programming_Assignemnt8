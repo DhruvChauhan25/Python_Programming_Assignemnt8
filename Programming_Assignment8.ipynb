{
 "cells": [
  {
   "cell_type": "markdown",
   "id": "306d7404",
   "metadata": {},
   "source": [
    "# 1. Write a Python Program to Add Two Matrices?"
   ]
  },
  {
   "cell_type": "code",
   "execution_count": 21,
   "id": "3904bcdb",
   "metadata": {},
   "outputs": [
    {
     "name": "stdout",
     "output_type": "stream",
     "text": [
      "[11, 12, 13]\n",
      "[14, 15, 16]\n",
      "[17, 18, 19]\n"
     ]
    }
   ],
   "source": [
    "matrix1=[[1,2,3],[4,5,6],[7,8,9]]\n",
    "matrix2=[[10,10,10],[10,10,10],[10,10,10]]\n",
    "matrix3=[[0,0,0],[0,0,0],[0,0,0]]\n",
    "for i in range(len(matrix1)):\n",
    "    for j in range(len(matrix1[0])):\n",
    "        matrix3[i][j]=matrix1[i][j]+matrix2[i][j]\n",
    "for i in matrix3:\n",
    "    print(i)"
   ]
  },
  {
   "cell_type": "markdown",
   "id": "c08c73f9",
   "metadata": {},
   "source": [
    "# 2. Write a Python Program to Multiply Two Matrices?"
   ]
  },
  {
   "cell_type": "code",
   "execution_count": 23,
   "id": "dff64cfe",
   "metadata": {},
   "outputs": [
    {
     "name": "stdout",
     "output_type": "stream",
     "text": [
      "[30, 60, 90]\n",
      "[120, 150, 180]\n",
      "[210, 240, 270]\n"
     ]
    }
   ],
   "source": [
    "matrix1=[[1,2,3],[4,5,6],[7,8,9]]\n",
    "matrix2=[[10,10,10],[10,10,10],[10,10,10]]\n",
    "matrix3=[[0,0,0],[0,0,0],[0,0,0]]\n",
    "for i in range(len(matrix1)):\n",
    "    for j in range(len(matrix2[0])):\n",
    "        for k in range(len(matrix2)):\n",
    "            matrix3[i][j]+=matrix1[i][j]*matrix2[i][j]\n",
    "for i in matrix3:\n",
    "    print(i)"
   ]
  },
  {
   "cell_type": "markdown",
   "id": "65d29d5a",
   "metadata": {},
   "source": [
    "# 3. Write a Python Program to Transpose a Matrix?"
   ]
  },
  {
   "cell_type": "code",
   "execution_count": 28,
   "id": "29e06ffd",
   "metadata": {},
   "outputs": [
    {
     "name": "stdout",
     "output_type": "stream",
     "text": [
      "[1, 2, 3, 4]\n",
      "[2, 2, 3, 4]\n",
      "[3, 3, 3, 4]\n",
      "[4, 4, 4, 4]\n"
     ]
    }
   ],
   "source": [
    "a=[[1,1,1,1],[2,2,2,2],[3,3,3,3],[4,4,4,4]]\n",
    "b=a[:][:]\n",
    "n=len(a)\n",
    "for i in range(n):\n",
    "    for j in range(n):\n",
    "        b[i][j]=a[j][i]\n",
    "for i in b:\n",
    "    print(i)"
   ]
  },
  {
   "cell_type": "markdown",
   "id": "ed398fc2",
   "metadata": {},
   "source": [
    "# 4. Write a Python Program to Sort Words in Alphabetic Order?"
   ]
  },
  {
   "cell_type": "code",
   "execution_count": 30,
   "id": "c130ad2a",
   "metadata": {},
   "outputs": [
    {
     "name": "stdout",
     "output_type": "stream",
     "text": [
      "Enter the stringHey my name is Dhruv Chauhan\n",
      "chauhan\n",
      "dhruv\n",
      "hey\n",
      "is\n",
      "my\n",
      "name\n"
     ]
    }
   ],
   "source": [
    "string=input(\"Enter the string\")\n",
    "words=[i.lower() for i in string.split()]\n",
    "words.sort()\n",
    "for i in words:\n",
    "    print(i)"
   ]
  },
  {
   "cell_type": "code",
   "execution_count": 33,
   "id": "982d03d1",
   "metadata": {},
   "outputs": [
    {
     "name": "stdout",
     "output_type": "stream",
     "text": [
      "baby\n",
      "hello\n",
      "is\n",
      "my\n",
      "name\n"
     ]
    }
   ],
   "source": [
    "#ALTERNATIVE METHOD\n",
    "a='Hello my name is baby'\n",
    "b=a.split(\" \")\n",
    "for i in range(len(b)):\n",
    "    b[i]=b[i].lower()\n",
    "b.sort()\n",
    "for i in b:\n",
    "    print(i)\n",
    "\n",
    "    "
   ]
  },
  {
   "cell_type": "markdown",
   "id": "c9a1d2f6",
   "metadata": {},
   "source": [
    "# 5. Write a Python Program to Remove Punctuation From a String?"
   ]
  },
  {
   "cell_type": "code",
   "execution_count": 35,
   "id": "8e778c91",
   "metadata": {},
   "outputs": [
    {
     "name": "stdout",
     "output_type": "stream",
     "text": [
      "The orignal string is My-- name ! is ? Dhruv Chauhan\n",
      "after punctuation\n",
      "My name  is  Dhruv Chauhan\n"
     ]
    }
   ],
   "source": [
    "string=\"My-- name ! is ? Dhruv Chauhan\"\n",
    "punc = '''!()-[]{};:'\"\\,<>./?@#$%^&*_~'''\n",
    "print(f\"The orignal string is {string}\")\n",
    "print(\"after punctuation\")\n",
    "for i in string:\n",
    "    if i in punc:\n",
    "        string=string.replace(i,\"\")\n",
    "print(string)"
   ]
  },
  {
   "cell_type": "code",
   "execution_count": null,
   "id": "fb68011f",
   "metadata": {},
   "outputs": [],
   "source": []
  }
 ],
 "metadata": {
  "kernelspec": {
   "display_name": "Python 3 (ipykernel)",
   "language": "python",
   "name": "python3"
  },
  "language_info": {
   "codemirror_mode": {
    "name": "ipython",
    "version": 3
   },
   "file_extension": ".py",
   "mimetype": "text/x-python",
   "name": "python",
   "nbconvert_exporter": "python",
   "pygments_lexer": "ipython3",
   "version": "3.9.7"
  }
 },
 "nbformat": 4,
 "nbformat_minor": 5
}
